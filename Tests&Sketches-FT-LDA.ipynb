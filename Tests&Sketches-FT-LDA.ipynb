{
 "cells": [
  {
   "cell_type": "code",
   "execution_count": 44,
   "metadata": {},
   "outputs": [],
   "source": [
    "import pandas as pd\n",
    "from sklearn.feature_extraction.text import CountVectorizer\n",
    "from sklearn.decomposition import LatentDirichletAllocation"
   ]
  },
  {
   "cell_type": "code",
   "execution_count": 45,
   "metadata": {},
   "outputs": [],
   "source": [
    "input_file_name = 'outputWithDates.csv'\n",
    "output_file_name = 'lda_result_15topics.csv'"
   ]
  },
  {
   "cell_type": "code",
   "execution_count": 46,
   "metadata": {},
   "outputs": [
    {
     "data": {
      "text/html": [
       "<div>\n",
       "<style scoped>\n",
       "    .dataframe tbody tr th:only-of-type {\n",
       "        vertical-align: middle;\n",
       "    }\n",
       "\n",
       "    .dataframe tbody tr th {\n",
       "        vertical-align: top;\n",
       "    }\n",
       "\n",
       "    .dataframe thead th {\n",
       "        text-align: right;\n",
       "    }\n",
       "</style>\n",
       "<table border=\"1\" class=\"dataframe\">\n",
       "  <thead>\n",
       "    <tr style=\"text-align: right;\">\n",
       "      <th></th>\n",
       "      <th>uuid</th>\n",
       "      <th>date</th>\n",
       "      <th>text</th>\n",
       "    </tr>\n",
       "  </thead>\n",
       "  <tbody>\n",
       "    <tr>\n",
       "      <th>0</th>\n",
       "      <td>e826d5b5-d176-41b4-b100-3f2ccf2b55ff</td>\n",
       "      <td>2021-02-17 05:00:53</td>\n",
       "      <td>Private equity group CVC Capital Partners has ...</td>\n",
       "    </tr>\n",
       "    <tr>\n",
       "      <th>1</th>\n",
       "      <td>db70a308-aa88-439e-bae2-e0ca30ab84ec</td>\n",
       "      <td>2020-10-09 18:18:10</td>\n",
       "      <td>Your level-headed briefing on how the coronavi...</td>\n",
       "    </tr>\n",
       "    <tr>\n",
       "      <th>2</th>\n",
       "      <td>e593e7d4-b82a-4bf9-8497-426eee43bcbc</td>\n",
       "      <td>2020-04-07 12:00:29</td>\n",
       "      <td>Harry Truman, US president from 1945-53, reput...</td>\n",
       "    </tr>\n",
       "  </tbody>\n",
       "</table>\n",
       "</div>"
      ],
      "text/plain": [
       "                                   uuid                 date  \\\n",
       "0  e826d5b5-d176-41b4-b100-3f2ccf2b55ff  2021-02-17 05:00:53   \n",
       "1  db70a308-aa88-439e-bae2-e0ca30ab84ec  2020-10-09 18:18:10   \n",
       "2  e593e7d4-b82a-4bf9-8497-426eee43bcbc  2020-04-07 12:00:29   \n",
       "\n",
       "                                                text  \n",
       "0  Private equity group CVC Capital Partners has ...  \n",
       "1  Your level-headed briefing on how the coronavi...  \n",
       "2  Harry Truman, US president from 1945-53, reput...  "
      ]
     },
     "execution_count": 46,
     "metadata": {},
     "output_type": "execute_result"
    }
   ],
   "source": [
    "df = pd.read_csv(input_file_name)\n",
    "df.head(3)"
   ]
  },
  {
   "cell_type": "code",
   "execution_count": 47,
   "metadata": {},
   "outputs": [],
   "source": [
    "cv = CountVectorizer(max_df=0.95, min_df=2, token_pattern='[a-zA-Z]{3,}', stop_words='english')\n",
    "dtm = cv.fit_transform(df['text'])"
   ]
  },
  {
   "cell_type": "code",
   "execution_count": 48,
   "metadata": {},
   "outputs": [
    {
     "data": {
      "text/plain": [
       "LatentDirichletAllocation(n_components=2, random_state=42)"
      ]
     },
     "execution_count": 48,
     "metadata": {},
     "output_type": "execute_result"
    }
   ],
   "source": [
    "lda_model = LatentDirichletAllocation(n_components=2, random_state=42)\n",
    "lda_model.fit(dtm)"
   ]
  },
  {
   "cell_type": "code",
   "execution_count": 49,
   "metadata": {},
   "outputs": [
    {
     "name": "stdout",
     "output_type": "stream",
     "text": [
      "The top 15 words for topic #0\n",
      "['covid', 'market', 'crisis', 'economy', 'companies', 'week', 'vaccine', 'economic', 'new', 'pandemic', 'coronavirus', 'government', 'year', 'cent', 'said']\n",
      "\n",
      "\n",
      "The top 15 words for topic #1\n",
      "['world', 'time', 'cent', 'home', 'virus', 'says', 'year', 'pandemic', 'government', 'health', 'covid', 'new', 'coronavirus', 'people', 'said']\n",
      "\n",
      "\n"
     ]
    }
   ],
   "source": [
    "for i, topic in enumerate(lda_model.components_):\n",
    "    print(f\"The top 15 words for topic #{i}\")\n",
    "    print([cv.get_feature_names()[index] for index in topic.argsort()[-15:]])\n",
    "    print('\\n')"
   ]
  },
  {
   "cell_type": "code",
   "execution_count": 50,
   "metadata": {},
   "outputs": [
    {
     "data": {
      "text/html": [
       "<div>\n",
       "<style scoped>\n",
       "    .dataframe tbody tr th:only-of-type {\n",
       "        vertical-align: middle;\n",
       "    }\n",
       "\n",
       "    .dataframe tbody tr th {\n",
       "        vertical-align: top;\n",
       "    }\n",
       "\n",
       "    .dataframe thead th {\n",
       "        text-align: right;\n",
       "    }\n",
       "</style>\n",
       "<table border=\"1\" class=\"dataframe\">\n",
       "  <thead>\n",
       "    <tr style=\"text-align: right;\">\n",
       "      <th></th>\n",
       "      <th>uuid</th>\n",
       "      <th>date</th>\n",
       "      <th>text</th>\n",
       "      <th>topic</th>\n",
       "    </tr>\n",
       "  </thead>\n",
       "  <tbody>\n",
       "    <tr>\n",
       "      <th>0</th>\n",
       "      <td>e826d5b5-d176-41b4-b100-3f2ccf2b55ff</td>\n",
       "      <td>2021-02-17 05:00:53</td>\n",
       "      <td>Private equity group CVC Capital Partners has ...</td>\n",
       "      <td>1</td>\n",
       "    </tr>\n",
       "    <tr>\n",
       "      <th>1</th>\n",
       "      <td>db70a308-aa88-439e-bae2-e0ca30ab84ec</td>\n",
       "      <td>2020-10-09 18:18:10</td>\n",
       "      <td>Your level-headed briefing on how the coronavi...</td>\n",
       "      <td>0</td>\n",
       "    </tr>\n",
       "    <tr>\n",
       "      <th>2</th>\n",
       "      <td>e593e7d4-b82a-4bf9-8497-426eee43bcbc</td>\n",
       "      <td>2020-04-07 12:00:29</td>\n",
       "      <td>Harry Truman, US president from 1945-53, reput...</td>\n",
       "      <td>0</td>\n",
       "    </tr>\n",
       "  </tbody>\n",
       "</table>\n",
       "</div>"
      ],
      "text/plain": [
       "                                   uuid                 date  \\\n",
       "0  e826d5b5-d176-41b4-b100-3f2ccf2b55ff  2021-02-17 05:00:53   \n",
       "1  db70a308-aa88-439e-bae2-e0ca30ab84ec  2020-10-09 18:18:10   \n",
       "2  e593e7d4-b82a-4bf9-8497-426eee43bcbc  2020-04-07 12:00:29   \n",
       "\n",
       "                                                text  topic  \n",
       "0  Private equity group CVC Capital Partners has ...      1  \n",
       "1  Your level-headed briefing on how the coronavi...      0  \n",
       "2  Harry Truman, US president from 1945-53, reput...      0  "
      ]
     },
     "execution_count": 50,
     "metadata": {},
     "output_type": "execute_result"
    }
   ],
   "source": [
    "doc_topic_results = lda_model.transform(dtm)\n",
    "df[\"topic\"] = doc_topic_results.argmax(axis=1)\n",
    "df.head(3)"
   ]
  },
  {
   "cell_type": "code",
   "execution_count": 12,
   "metadata": {},
   "outputs": [],
   "source": [
    "df.to_csv(output_file_name)"
   ]
  },
  {
   "cell_type": "code",
   "execution_count": 51,
   "metadata": {},
   "outputs": [],
   "source": [
    "# Plotting tools\n",
    "import pyLDAvis\n",
    "import pyLDAvis.sklearn\n",
    "import matplotlib.pyplot as plt\n",
    "%matplotlib inline"
   ]
  },
  {
   "cell_type": "code",
   "execution_count": 52,
   "metadata": {},
   "outputs": [
    {
     "name": "stderr",
     "output_type": "stream",
     "text": [
      "/Users/elitsa/opt/anaconda3/lib/python3.8/site-packages/sklearn/metrics/pairwise.py:57: DeprecationWarning: `np.float` is a deprecated alias for the builtin `float`. To silence this warning, use `float` by itself. Doing this will not modify any behavior and is safe. If you specifically wanted the numpy scalar type, use `np.float64` here.\n",
      "Deprecated in NumPy 1.20; for more details and guidance: https://numpy.org/devdocs/release/1.20.0-notes.html#deprecations\n",
      "  dtype = np.float\n",
      "/Users/elitsa/opt/anaconda3/lib/python3.8/site-packages/sklearn/manifold/_t_sne.py:349: DeprecationWarning: `np.float` is a deprecated alias for the builtin `float`. To silence this warning, use `float` by itself. Doing this will not modify any behavior and is safe. If you specifically wanted the numpy scalar type, use `np.float64` here.\n",
      "Deprecated in NumPy 1.20; for more details and guidance: https://numpy.org/devdocs/release/1.20.0-notes.html#deprecations\n",
      "  error = np.finfo(np.float).max\n",
      "/Users/elitsa/opt/anaconda3/lib/python3.8/site-packages/sklearn/manifold/_t_sne.py:350: DeprecationWarning: `np.float` is a deprecated alias for the builtin `float`. To silence this warning, use `float` by itself. Doing this will not modify any behavior and is safe. If you specifically wanted the numpy scalar type, use `np.float64` here.\n",
      "Deprecated in NumPy 1.20; for more details and guidance: https://numpy.org/devdocs/release/1.20.0-notes.html#deprecations\n",
      "  best_error = np.finfo(np.float).max\n",
      "/Users/elitsa/opt/anaconda3/lib/python3.8/site-packages/sklearn/manifold/_t_sne.py:349: DeprecationWarning: `np.float` is a deprecated alias for the builtin `float`. To silence this warning, use `float` by itself. Doing this will not modify any behavior and is safe. If you specifically wanted the numpy scalar type, use `np.float64` here.\n",
      "Deprecated in NumPy 1.20; for more details and guidance: https://numpy.org/devdocs/release/1.20.0-notes.html#deprecations\n",
      "  error = np.finfo(np.float).max\n",
      "/Users/elitsa/opt/anaconda3/lib/python3.8/site-packages/sklearn/manifold/_t_sne.py:350: DeprecationWarning: `np.float` is a deprecated alias for the builtin `float`. To silence this warning, use `float` by itself. Doing this will not modify any behavior and is safe. If you specifically wanted the numpy scalar type, use `np.float64` here.\n",
      "Deprecated in NumPy 1.20; for more details and guidance: https://numpy.org/devdocs/release/1.20.0-notes.html#deprecations\n",
      "  best_error = np.finfo(np.float).max\n"
     ]
    }
   ],
   "source": [
    "panel = pyLDAvis.sklearn.prepare(lda_model, dtm, cv, mds='tsne')"
   ]
  },
  {
   "cell_type": "code",
   "execution_count": 53,
   "metadata": {},
   "outputs": [
    {
     "data": {
      "text/html": [
       "\n",
       "<link rel=\"stylesheet\" type=\"text/css\" href=\"https://cdn.jsdelivr.net/gh/bmabey/pyLDAvis@3.3.1/pyLDAvis/js/ldavis.v1.0.0.css\">\n",
       "\n",
       "\n",
       "<div id=\"ldavis_el522341402791068617607867243213\"></div>\n",
       "<script type=\"text/javascript\">\n",
       "\n",
       "var ldavis_el522341402791068617607867243213_data = {\"mdsDat\": {\"x\": [-60.31231689453125, 60.31256103515625], \"y\": [141.36962890625, -141.369140625], \"topics\": [1, 2], \"cluster\": [1, 1], \"Freq\": [51.62109682170315, 48.37890317829686]}, \"tinfo\": {\"Term\": [\"vaccine\", \"says\", \"cent\", \"debt\", \"bank\", \"economic\", \"home\", \"economy\", \"recovery\", \"banks\", \"online\", \"markets\", \"stimulus\", \"investors\", \"fiscal\", \"people\", \"school\", \"inflation\", \"support\", \"said\", \"loans\", \"fed\", \"vaccines\", \"students\", \"city\", \"scheme\", \"trump\", \"tests\", \"health\", \"growth\", \"inflation\", \"sunak\", \"eurozone\", \"ecb\", \"doses\", \"treasury\", \"astrazeneca\", \"monetary\", \"imf\", \"biontech\", \"yields\", \"bloc\", \"borrowing\", \"pfizer\", \"fiscal\", \"moderna\", \"rishi\", \"republicans\", \"boe\", \"stimulus\", \"barrel\", \"lagarde\", \"borrowers\", \"mnuchin\", \"lows\", \"treasuries\", \"leyen\", \"reserve\", \"pelosi\", \"yield\", \"fed\", \"gdp\", \"economists\", \"bond\", \"democrats\", \"currency\", \"debt\", \"republican\", \"vaccine\", \"loans\", \"biden\", \"bonds\", \"banks\", \"bank\", \"recovery\", \"unemployment\", \"chancellor\", \"loan\", \"vaccines\", \"economy\", \"economic\", \"markets\", \"investors\", \"scheme\", \"cent\", \"growth\", \"oil\", \"support\", \"trump\", \"said\", \"central\", \"european\", \"market\", \"year\", \"quarter\", \"rate\", \"government\", \"president\", \"rates\", \"crisis\", \"financial\", \"pandemic\", \"coronavirus\", \"companies\", \"week\", \"new\", \"month\", \"countries\", \"global\", \"businesses\", \"covid\", \"country\", \"people\", \"time\", \"students\", \"est\", \"les\", \"qui\", \"wuhan\", \"apple\", \"pour\", \"une\", \"pas\", \"art\", \"universities\", \"teaching\", \"vietnam\", \"des\", \"mother\", \"guests\", \"listen\", \"brands\", \"apps\", \"privacy\", \"podcast\", \"son\", \"machines\", \"hubei\", \"mba\", \"friend\", \"rents\", \"labs\", \"faire\", \"samples\", \"amazon\", \"app\", \"mental\", \"fashion\", \"parents\", \"masks\", \"online\", \"teachers\", \"learning\", \"says\", \"school\", \"children\", \"tests\", \"home\", \"nhs\", \"friends\", \"contact\", \"schools\", \"infected\", \"city\", \"testing\", \"remote\", \"stores\", \"staff\", \"equipment\", \"life\", \"people\", \"health\", \"working\", \"care\", \"work\", \"social\", \"like\", \"food\", \"test\", \"medical\", \"virus\", \"london\", \"university\", \"covid\", \"coronavirus\", \"company\", \"new\", \"just\", \"said\", \"china\", \"world\", \"time\", \"lockdown\", \"business\", \"pandemic\", \"public\", \"government\", \"year\", \"cent\", \"workers\", \"cases\", \"week\", \"companies\", \"need\"], \"Freq\": [1586.0, 1596.0, 5507.0, 1128.0, 1354.0, 1871.0, 1442.0, 1690.0, 1030.0, 906.0, 720.0, 1106.0, 595.0, 1092.0, 546.0, 4169.0, 664.0, 499.0, 1407.0, 10477.0, 535.0, 482.0, 677.0, 401.0, 792.0, 699.0, 1087.0, 538.0, 2246.0, 817.0, 499.4431003260621, 370.2886570218722, 315.98304286295104, 290.74868613712727, 347.92177746878906, 411.8713902398392, 310.1079156144718, 262.55316623003773, 207.2231551276326, 220.77084327063912, 188.77422116363218, 181.010702540507, 189.70418008965424, 268.03612325870694, 544.5794956596682, 141.18428046712876, 145.00024237573746, 160.3742995349679, 112.06555718946746, 591.9761163163399, 93.63902593828512, 83.9711653934099, 110.02829563497167, 77.16528289701509, 76.17354867802517, 69.40418816276971, 80.00151013002954, 240.9265094607137, 70.34999253205098, 225.48841787593204, 477.7248897835315, 285.02320696889444, 346.5844633421895, 399.61605077473536, 213.6542865152583, 168.62867217768868, 1098.8486491208198, 166.50632769737481, 1522.6493756434652, 524.8801812427079, 448.3036090635655, 362.9693350205045, 866.3584126602474, 1276.4765979017882, 979.0735520876839, 474.62048883088397, 356.6315829124686, 392.7220102455008, 636.0550380671529, 1503.6429162626464, 1654.1093991142943, 1003.9103330853815, 987.9985269436364, 650.8033243729624, 4287.692037529894, 735.6508067513124, 511.3680569810391, 1182.588614573452, 937.8407586727811, 6806.988963512325, 749.8338500386185, 760.2765269082928, 1394.9688910822874, 2727.3560589943563, 762.063081108982, 733.3397354312913, 2525.438000649464, 919.8946980738878, 775.2561782793854, 1434.5848616896526, 1290.670882983124, 2060.2911229889737, 2331.9373953599556, 1507.082871785899, 1513.8404457265299, 1825.4599286121559, 1017.8476761749986, 1124.089023194234, 1094.757416971608, 937.6650233132711, 1377.0472088020733, 1049.063709195527, 1374.9967121428888, 1027.0460456709263, 401.3256583909528, 334.7261133153329, 228.86833741726466, 189.66150270094548, 259.04996450754055, 159.22041024647427, 129.86516337879485, 124.97100804164005, 156.21020957486212, 120.03946563383033, 156.06422994960872, 95.54527851816731, 118.94026677955138, 160.83891246115115, 89.66303503067749, 90.62889807899744, 107.15939807414836, 93.50435786111304, 75.93997531669606, 124.60572149211467, 74.94932869042272, 73.93300296720227, 70.03638052178563, 72.95224628776886, 63.211682741662166, 64.17339458158936, 76.81050252602748, 64.16619950323447, 54.398346020048955, 54.39077672062057, 258.61836919467606, 191.32611449057512, 98.00468818871381, 108.46402665356919, 189.59972962636576, 421.0815520910165, 685.7980994618767, 119.85253654450587, 149.86645537667488, 1484.672464621798, 625.3921644158969, 454.2076468529048, 506.470749025692, 1279.5329362861492, 455.28523478506287, 173.5267114276904, 261.2257910721942, 559.6594054139745, 244.4990298365973, 694.881194355715, 696.841661701759, 164.91494661029833, 257.5717843493628, 751.4034822399515, 302.09731130730404, 469.92187213904435, 2794.10426027691, 1599.5850021692552, 726.1938687617836, 573.7768473021888, 1091.4570688202207, 805.2224292856318, 888.5536921153325, 526.0317391633997, 447.75029067253956, 507.6818674798845, 1286.7307453543494, 700.4707296692361, 530.9521682450314, 1661.9039241340618, 2094.538330755476, 1057.293334569912, 1770.8005346808666, 1031.079710883646, 3670.988046703289, 982.4436287877526, 1111.6250667876586, 1196.8433489939987, 972.3337990845303, 1107.591247437979, 1581.732374898223, 961.8005160558633, 1596.300397385016, 1510.0545379571915, 1219.6645892254405, 743.9757291799878, 778.366984222675, 924.910542851707, 883.7052191418979, 759.4125118688806], \"Total\": [1586.0, 1596.0, 5507.0, 1128.0, 1354.0, 1871.0, 1442.0, 1690.0, 1030.0, 906.0, 720.0, 1106.0, 595.0, 1092.0, 546.0, 4169.0, 664.0, 499.0, 1407.0, 10477.0, 535.0, 482.0, 677.0, 401.0, 792.0, 699.0, 1087.0, 538.0, 2246.0, 817.0, 499.96756075656896, 370.8513841739392, 316.4859528704852, 291.24506266480887, 348.52333050465876, 412.5973899190364, 310.6616318224433, 263.09223956245563, 207.75652414420586, 221.34815894176367, 189.31133965612622, 181.5449032309373, 190.28253466406778, 268.92034325208766, 546.5801141863845, 141.74228683066093, 145.6261396860175, 161.16048809169297, 112.61820356029342, 595.1311965033813, 94.17280298893168, 84.46440503611393, 110.6775240967035, 77.66889666098875, 76.69829750091642, 69.90243685641026, 80.58203461577672, 242.71737582447267, 70.87347902858707, 227.18364505694538, 482.5340746148775, 287.3796278818795, 350.4965591265187, 404.8742789371913, 215.53581198743822, 169.90235487068708, 1128.3527019468418, 167.96249606658475, 1586.9027760781805, 535.9883088551074, 458.31373383910403, 370.9219820187471, 906.1374164893874, 1354.037651059504, 1030.5113326555834, 491.38550139624186, 366.082288017031, 404.9407747688457, 677.0398839709968, 1690.9835742679531, 1871.8429241100484, 1106.7246293702997, 1092.1756326137458, 699.4414220783008, 5507.356626755334, 817.2229792719901, 546.9004520529786, 1407.8721403483894, 1087.7586005336452, 10477.977010215614, 853.3522771518439, 878.7358391404053, 1858.6598025082837, 4237.410596951548, 898.3219039156206, 860.3725234985912, 4121.73839803448, 1160.4638958346402, 933.4805853884362, 2124.8825270565885, 1843.0029970233754, 3642.0234978871968, 4426.475726115432, 2390.788090927797, 2438.750988578237, 3596.2604632930224, 1430.0445955250514, 1693.6643614723603, 1639.0580456802663, 1282.8130989205147, 3038.951132936135, 1782.602846899088, 4169.100972419798, 2223.889394664925, 401.86240762138686, 335.21169199807775, 229.3538894334346, 190.14729349262402, 259.7370555762678, 159.76164860893007, 130.3571781621543, 125.45641766688637, 156.82048816493284, 120.55530000309211, 156.81909358326044, 96.05127388075172, 119.57399799891833, 161.71871272323904, 90.17027285107956, 91.15030106323594, 107.81183944062734, 94.09017429208419, 76.44795789438847, 125.45292798850637, 75.46769291819231, 74.48718262283573, 70.5667528900607, 73.50701212789613, 63.70594727823605, 64.68593583280429, 77.42707533820351, 64.68586709632858, 54.884541538721244, 54.88446922721115, 261.6745345705371, 193.0755991725973, 98.98717247362889, 109.76590503763734, 193.05910656465457, 436.0291782707619, 720.0903949220632, 121.52431528919979, 152.87668033988473, 1596.5892081168124, 664.1776602389162, 480.0316886501728, 538.7790359191383, 1442.213688527564, 494.6039991631512, 179.31434183745313, 276.2614599889437, 622.7760530401907, 258.6272456075418, 792.987248275161, 815.3344017176687, 170.49486176726109, 279.13895550966015, 918.7605584130639, 335.8707815531112, 552.0210898643484, 4169.100972419798, 2246.182111743136, 913.6657190114478, 698.6334040386066, 1474.3949877871496, 1051.3036503078831, 1197.7198960687913, 645.7540247660257, 536.2764618231655, 626.1627022466319, 1961.6610229127984, 952.2520218622295, 672.9834608444169, 3038.951132936135, 4426.475726115432, 1744.9221108667725, 3596.2604632930224, 1700.0148360698863, 10477.977010215614, 1618.0029130241846, 1969.6962030720367, 2223.889394664925, 1637.3223525428898, 2041.4969460300981, 3642.0234978871968, 1687.7033809034026, 4121.73839803448, 4237.410596951548, 5507.356626755334, 1156.5358610014282, 1343.258214907534, 2438.750988578237, 2390.788090927797, 1479.9600885611112], \"Category\": [\"Default\", \"Default\", \"Default\", \"Default\", \"Default\", \"Default\", \"Default\", \"Default\", \"Default\", \"Default\", \"Default\", \"Default\", \"Default\", \"Default\", \"Default\", \"Default\", \"Default\", \"Default\", \"Default\", \"Default\", \"Default\", \"Default\", \"Default\", \"Default\", \"Default\", \"Default\", \"Default\", \"Default\", \"Default\", \"Default\", \"Topic1\", \"Topic1\", \"Topic1\", \"Topic1\", \"Topic1\", \"Topic1\", \"Topic1\", \"Topic1\", \"Topic1\", \"Topic1\", \"Topic1\", \"Topic1\", \"Topic1\", \"Topic1\", \"Topic1\", \"Topic1\", \"Topic1\", \"Topic1\", \"Topic1\", \"Topic1\", \"Topic1\", \"Topic1\", \"Topic1\", \"Topic1\", \"Topic1\", \"Topic1\", \"Topic1\", \"Topic1\", \"Topic1\", \"Topic1\", \"Topic1\", \"Topic1\", \"Topic1\", \"Topic1\", \"Topic1\", \"Topic1\", \"Topic1\", \"Topic1\", \"Topic1\", \"Topic1\", \"Topic1\", \"Topic1\", \"Topic1\", \"Topic1\", \"Topic1\", \"Topic1\", \"Topic1\", \"Topic1\", \"Topic1\", \"Topic1\", \"Topic1\", \"Topic1\", \"Topic1\", \"Topic1\", \"Topic1\", \"Topic1\", \"Topic1\", \"Topic1\", \"Topic1\", \"Topic1\", \"Topic1\", \"Topic1\", \"Topic1\", \"Topic1\", \"Topic1\", \"Topic1\", \"Topic1\", \"Topic1\", \"Topic1\", \"Topic1\", \"Topic1\", \"Topic1\", \"Topic1\", \"Topic1\", \"Topic1\", \"Topic1\", \"Topic1\", \"Topic1\", \"Topic1\", \"Topic1\", \"Topic1\", \"Topic1\", \"Topic1\", \"Topic1\", \"Topic2\", \"Topic2\", \"Topic2\", \"Topic2\", \"Topic2\", \"Topic2\", \"Topic2\", \"Topic2\", \"Topic2\", \"Topic2\", \"Topic2\", \"Topic2\", \"Topic2\", \"Topic2\", \"Topic2\", \"Topic2\", \"Topic2\", \"Topic2\", \"Topic2\", \"Topic2\", \"Topic2\", \"Topic2\", \"Topic2\", \"Topic2\", \"Topic2\", \"Topic2\", \"Topic2\", \"Topic2\", \"Topic2\", \"Topic2\", \"Topic2\", \"Topic2\", \"Topic2\", \"Topic2\", \"Topic2\", \"Topic2\", \"Topic2\", \"Topic2\", \"Topic2\", \"Topic2\", \"Topic2\", \"Topic2\", \"Topic2\", \"Topic2\", \"Topic2\", \"Topic2\", \"Topic2\", \"Topic2\", \"Topic2\", \"Topic2\", \"Topic2\", \"Topic2\", \"Topic2\", \"Topic2\", \"Topic2\", \"Topic2\", \"Topic2\", \"Topic2\", \"Topic2\", \"Topic2\", \"Topic2\", \"Topic2\", \"Topic2\", \"Topic2\", \"Topic2\", \"Topic2\", \"Topic2\", \"Topic2\", \"Topic2\", \"Topic2\", \"Topic2\", \"Topic2\", \"Topic2\", \"Topic2\", \"Topic2\", \"Topic2\", \"Topic2\", \"Topic2\", \"Topic2\", \"Topic2\", \"Topic2\", \"Topic2\", \"Topic2\", \"Topic2\", \"Topic2\", \"Topic2\", \"Topic2\", \"Topic2\", \"Topic2\", \"Topic2\"], \"logprob\": [30.0, 29.0, 28.0, 27.0, 26.0, 25.0, 24.0, 23.0, 22.0, 21.0, 20.0, 19.0, 18.0, 17.0, 16.0, 15.0, 14.0, 13.0, 12.0, 11.0, 10.0, 9.0, 8.0, 7.0, 6.0, 5.0, 4.0, 3.0, 2.0, 1.0, -6.7449, -7.0441, -7.2027, -7.2859, -7.1064, -6.9377, -7.2215, -7.3879, -7.6246, -7.5613, -7.7178, -7.7598, -7.7129, -7.3673, -6.6584, -8.0083, -7.9817, -7.8809, -8.2393, -6.5749, -8.4189, -8.5279, -8.2577, -8.6124, -8.6254, -8.7184, -8.5764, -7.4739, -8.7049, -7.5401, -6.7894, -7.3058, -7.1103, -6.9679, -7.594, -7.8307, -5.9564, -7.8434, -5.6302, -6.6952, -6.8529, -7.0641, -6.1941, -5.8065, -6.0718, -6.7959, -7.0817, -6.9853, -6.5031, -5.6428, -5.5474, -6.0467, -6.0627, -6.4802, -4.5949, -6.3576, -6.7213, -5.8829, -6.1148, -4.1327, -6.3385, -6.3247, -5.7178, -5.0473, -6.3224, -6.3608, -5.1242, -6.1341, -6.3052, -5.6898, -5.7955, -5.3278, -5.2039, -5.6405, -5.636, -5.4488, -6.033, -5.9337, -5.9601, -6.115, -5.7307, -6.0027, -5.7322, -6.024, -6.8988, -7.0802, -7.4604, -7.6483, -7.3365, -7.8232, -8.027, -8.0654, -7.8423, -8.1057, -7.8433, -8.3339, -8.1149, -7.8131, -8.3975, -8.3868, -8.2192, -8.3555, -8.5636, -8.0684, -8.5767, -8.5904, -8.6445, -8.6037, -8.747, -8.7319, -8.5522, -8.7321, -8.8972, -8.8973, -7.3382, -7.6396, -8.3085, -8.2071, -7.6486, -6.8507, -6.3629, -8.1073, -7.8838, -5.5906, -6.4552, -6.775, -6.6661, -5.7393, -6.7726, -7.7372, -7.3281, -6.5662, -7.3943, -6.3498, -6.347, -7.7881, -7.3422, -6.2716, -7.1828, -6.741, -4.9583, -5.516, -6.3057, -6.5413, -5.8983, -6.2024, -6.1039, -6.6282, -6.7893, -6.6637, -5.7337, -6.3418, -6.6189, -5.4778, -5.2464, -5.9301, -5.4143, -5.9552, -4.6853, -6.0035, -5.88, -5.8061, -6.0138, -5.8836, -5.5273, -6.0247, -5.5181, -5.5736, -5.7872, -6.2815, -6.2363, -6.0638, -6.1094, -6.261], \"loglift\": [30.0, 29.0, 28.0, 27.0, 26.0, 25.0, 24.0, 23.0, 22.0, 21.0, 20.0, 19.0, 18.0, 17.0, 16.0, 15.0, 14.0, 13.0, 12.0, 11.0, 10.0, 9.0, 8.0, 7.0, 6.0, 5.0, 4.0, 3.0, 2.0, 1.0, 0.6602, 0.6597, 0.6596, 0.6595, 0.6595, 0.6595, 0.6595, 0.6592, 0.6587, 0.6586, 0.6584, 0.6583, 0.6582, 0.6579, 0.6576, 0.6573, 0.6569, 0.6563, 0.6563, 0.6559, 0.6556, 0.6554, 0.6554, 0.6547, 0.6544, 0.6541, 0.654, 0.6538, 0.6538, 0.6537, 0.6512, 0.653, 0.65, 0.6482, 0.6525, 0.6537, 0.6347, 0.6525, 0.6199, 0.6403, 0.6392, 0.6396, 0.6163, 0.6023, 0.61, 0.6265, 0.6351, 0.6306, 0.5988, 0.5438, 0.5376, 0.5637, 0.561, 0.5892, 0.4109, 0.5561, 0.5941, 0.4869, 0.5129, 0.2299, 0.5319, 0.5164, 0.3743, 0.2206, 0.4967, 0.5015, 0.1714, 0.4289, 0.4755, 0.2684, 0.305, 0.0915, 0.0203, 0.1998, 0.1844, -0.0168, 0.3212, 0.2513, 0.2577, 0.3478, -0.1303, 0.1311, -0.448, -0.1113, 0.7248, 0.7247, 0.724, 0.7235, 0.7235, 0.7227, 0.7223, 0.7222, 0.7222, 0.7218, 0.7213, 0.7208, 0.7208, 0.7207, 0.7205, 0.7204, 0.72, 0.7199, 0.7194, 0.7193, 0.7192, 0.7186, 0.7186, 0.7185, 0.7183, 0.7182, 0.7181, 0.718, 0.7172, 0.7171, 0.7144, 0.717, 0.7161, 0.7142, 0.708, 0.6912, 0.6773, 0.7123, 0.7062, 0.6534, 0.6659, 0.6708, 0.6643, 0.6064, 0.6433, 0.6933, 0.6701, 0.6192, 0.6699, 0.594, 0.5691, 0.6928, 0.6457, 0.525, 0.6201, 0.5651, 0.3259, 0.3866, 0.4965, 0.5292, 0.4254, 0.4594, 0.4275, 0.521, 0.5457, 0.5164, 0.3044, 0.419, 0.4891, 0.1226, -0.0222, 0.2251, 0.0176, 0.2261, -0.3227, 0.2272, 0.1541, 0.1065, 0.205, 0.1146, -0.1079, 0.1638, -0.2225, -0.3057, -0.7814, 0.2849, 0.1805, -0.2434, -0.2691, 0.0589]}, \"token.table\": {\"Topic\": [1, 2, 1, 2, 1, 2, 1, 2, 1, 2, 1, 2, 1, 2, 1, 2, 1, 2, 1, 2, 1, 2, 1, 2, 1, 2, 1, 2, 1, 2, 1, 2, 1, 2, 1, 2, 1, 2, 1, 2, 1, 2, 1, 2, 1, 2, 1, 2, 1, 2, 1, 2, 1, 2, 1, 2, 1, 2, 1, 2, 1, 2, 1, 2, 1, 2, 1, 2, 1, 2, 1, 2, 1, 2, 1, 2, 1, 2, 1, 2, 1, 2, 1, 1, 2, 1, 2, 1, 2, 1, 2, 2, 1, 2, 1, 2, 2, 1, 2, 1, 2, 1, 2, 1, 2, 1, 2, 1, 2, 1, 2, 1, 2, 1, 2, 1, 2, 1, 2, 1, 2, 1, 2, 1, 2, 1, 2, 1, 2, 1, 2, 1, 2, 1, 2, 1, 2, 1, 2, 1, 1, 2, 2, 1, 2, 1, 2, 1, 2, 1, 2, 1, 2, 1, 2, 1, 2, 1, 2, 1, 2, 1, 2, 1, 2, 1, 2, 1, 2, 2, 1, 2, 1, 2, 1, 2, 1, 2, 1, 2, 1, 2, 1, 2, 1, 2, 1, 2, 1, 2, 1, 2, 1, 2, 1, 2, 1, 2, 1, 2, 1, 2, 1, 2, 1, 2, 1, 2, 2, 1, 2, 1, 2, 1, 2, 1, 2, 2, 1, 2, 1, 2, 1, 2, 1, 2, 1, 2, 1, 2, 1, 2, 1, 2, 1, 2, 1, 2, 2, 1, 2, 1, 2, 1, 2, 1, 2, 1, 2, 1, 2, 1, 2, 1, 2, 1, 2, 1, 2, 1, 2, 1, 2, 1, 2, 1, 2, 1, 2, 1, 2, 1, 2, 1, 2, 1, 1, 2, 1, 2, 2, 1, 2, 1, 2, 1, 2, 1, 2, 1, 2, 1, 2, 1, 2, 1, 2, 1, 2, 1, 2, 1, 2, 1, 2, 1, 2, 1, 2, 1, 2, 1, 2], \"Freq\": [0.011464623429725901, 0.9897791560996695, 0.010358636764929199, 0.9892498110507385, 0.006259324491873726, 0.9952325942079224, 0.013080794144710611, 0.9941403549980065, 0.008294948459124991, 0.9953938150949989, 0.9978702493173619, 0.003218936288120522, 0.9423667052401081, 0.05760548825135457, 0.9557049341976295, 0.04414341497448635, 0.9981650435853333, 0.01061877705941844, 0.9774963456741517, 0.02181911485879803, 0.9984270980909524, 0.004517769674619694, 0.9969985209100354, 0.005508279121049919, 0.9945106249189772, 0.008879559151062297, 0.9879610061918814, 0.012349512577398518, 0.9786424574363816, 0.021567877849837613, 0.9938783948933343, 0.009035258135393949, 0.9985151834109915, 0.005255343070584166, 0.010628102323370126, 0.9990416183967918, 0.45750741964922337, 0.5427389946159952, 0.731205505142819, 0.26894019112395795, 0.17892073192808924, 0.8216040010137858, 0.42061905427385976, 0.5791887154425892, 0.77859493957018, 0.2215218811277098, 0.8788867389013206, 0.12187229446098313, 0.9751905833351642, 0.024584636554668002, 0.05416309092658198, 0.9457708954103161, 0.3930771662278791, 0.6069210333895869, 0.12358332396033017, 0.8764327566574436, 0.6303360827831362, 0.36975255287345216, 0.3942869402108974, 0.605757697387963, 0.054296390095818346, 0.9447571876672392, 0.5268299532835137, 0.47328848719080663, 0.6636497912861958, 0.3365483817020744, 0.5884653453935514, 0.41175744854038776, 0.4531168616290278, 0.5468992186110706, 0.67533145090509, 0.32472383353624534, 0.9946889796120021, 0.00588573360717161, 0.973986235069764, 0.026587431348583185, 0.9928744463702963, 0.009279200433367255, 0.006183576304563916, 0.9955557850347905, 0.9984984347994695, 0.002869248375860545, 0.9991585688609907, 0.8836211514843747, 0.11646276361765036, 0.9900239844430069, 0.01141238022412688, 0.8894231871241561, 0.11058652659056994, 0.10122940686528156, 0.8991553198033833, 0.9993684826540031, 0.8648788021932111, 0.1342838140247354, 0.998464535736649, 0.003159697897900788, 0.9838835942886177, 0.009110297042210991, 0.9839120805587871, 0.9906036177476248, 0.010361962528740845, 0.7004871951294097, 0.29951117870754, 0.9971090895087966, 0.0036591159248029236, 0.18582927151476797, 0.8145516401397329, 0.015459311009811011, 0.9893959046279047, 0.03346079258645662, 0.970362985007242, 0.9917195665558535, 0.006959435554777919, 0.6680666391808819, 0.33189794677114137, 0.6126055940872154, 0.3872152586784933, 0.9006109943893816, 0.10033981187490393, 0.010970890807110395, 0.9983510634470458, 0.2880443204571243, 0.7123198032942796, 0.11302069956527437, 0.8875245119236269, 0.013604144299323207, 0.9931025338505941, 0.9963586022276695, 0.004813326580809997, 0.054131961105306485, 0.9434427506924845, 0.9980647529309605, 0.0020001297653927065, 0.9046164101240408, 0.09522278001305692, 0.3935259774241746, 0.6064652955520539, 0.015459327437179206, 0.9893969559794692, 0.9945017663249346, 0.019623660020156232, 0.9811830010078115, 0.9984570157745796, 0.9927771169026456, 0.01240971396128307, 0.14854504928453074, 0.8514167458991396, 0.2579902037314512, 0.7422436605736573, 0.009275419148661371, 0.9924698489067667, 0.9705122933701554, 0.029633963156340624, 0.9794989766127942, 0.020522835700458545, 0.4061509323238658, 0.5936521898027031, 0.2646358256159828, 0.7350995155999522, 0.9908955280147114, 0.01303809905282515, 0.014170979378319242, 0.991968556482347, 0.7505407918745705, 0.2496422418851618, 0.9071814011867183, 0.09306741466357768, 0.034401367494460246, 0.9655317143445176, 0.988918659742193, 0.18844942309183144, 0.8112907367004268, 0.010102319068325842, 0.9900272686959325, 0.9913878439150697, 0.012875166804091816, 0.9947631236432093, 0.007055057614490846, 0.9996494021921398, 0.003800948297308516, 0.7118659118642617, 0.2881029034264006, 0.01109012946707555, 0.9981116520367996, 0.48717529991027736, 0.5128516680054098, 0.5074715857284944, 0.4924559881233773, 0.07885095968893566, 0.9199278630375827, 0.9343565142098276, 0.06582550785039881, 0.04721629428716361, 0.9526581729704188, 0.5656196345781522, 0.43437391354496935, 0.01553928252017117, 0.9841545596108408, 0.006376717810929589, 0.9947679785050159, 0.9876755164194105, 0.014109650234563008, 0.3298073155570355, 0.6701684652118961, 0.9965776361841658, 0.003718573269343902, 0.013250703199367832, 0.9938027399525874, 0.9972600038817195, 0.7927864049043151, 0.2076755691108043, 0.007971117263134878, 0.9963896578918598, 0.43017037722077855, 0.5700053758765689, 0.8482482689986536, 0.15139339184227937, 0.9992253716057772, 0.8519565420561692, 0.1476104786372899, 0.8302261580271754, 0.1692590102816693, 0.9500138125382466, 0.04948999432017423, 0.035191676381370794, 0.9677711004876968, 0.012915378704826104, 0.99448416027161, 0.9942695775001867, 0.005953710044911298, 0.9927991773577113, 0.006204994858485695, 0.9929243803883466, 0.008240036351770511, 0.9957003619860589, 0.006866899048179716, 0.6496483045690445, 0.3503538895362072, 0.9838848905771573, 0.0701495409280041, 0.9301077524829116, 0.9307427033212256, 0.07005590240052235, 0.05871922880689938, 0.9410132821618491, 0.10115995901328323, 0.8991996356736287, 0.2339951924717058, 0.7657159753647284, 0.01342512852262756, 0.9934595106744395, 0.18176661859369758, 0.8174055722387239, 0.9947386449882342, 0.005040905295548484, 0.07881379350951483, 0.9242708511570374, 0.0024884138974804186, 0.9978539728896479, 0.9977042443138358, 0.0026964979576049614, 0.8402751685300464, 0.15981564912870705, 0.016457611756465873, 0.9874567053879524, 0.010411106064470384, 0.9994661821891568, 0.1659591765363502, 0.8353900122279202, 0.14472589375771322, 0.8548639656705603, 0.059393550726058064, 0.939160520855793, 0.46180354223719783, 0.5382461928509501, 0.9870900515490755, 0.9985521238533438, 0.0024236702035275335, 0.8623236805848513, 0.13789824316388882, 0.9963619424548033, 0.9666544874651705, 0.03459605534085873, 0.006376774518653029, 0.9947768249098726, 0.21100072774719816, 0.7890238481250861, 0.9597311334749141, 0.04033013298909685, 0.9393833584363032, 0.06055773222623967, 0.008363022201608129, 0.9951996419913673, 0.3440961471507026, 0.6560766539006729, 0.6208095894540853, 0.3792925166743916, 0.2597675678312138, 0.7399645339526221, 0.35710090272720907, 0.6433004155666914, 0.2046700408135341, 0.7946013349231325, 0.4356001695397596, 0.5645540658836978, 0.003850047494306662, 0.9971623010254255, 0.6435534007400279, 0.35634970117984677, 0.9903881942892586, 0.008803450615904521, 0.9983554093659062, 0.005282303753258763], \"Term\": [\"amazon\", \"amazon\", \"app\", \"app\", \"apple\", \"apple\", \"apps\", \"apps\", \"art\", \"art\", \"astrazeneca\", \"astrazeneca\", \"bank\", \"bank\", \"banks\", \"banks\", \"barrel\", \"barrel\", \"biden\", \"biden\", \"biontech\", \"biontech\", \"bloc\", \"bloc\", \"boe\", \"boe\", \"bond\", \"bond\", \"bonds\", \"bonds\", \"borrowers\", \"borrowers\", \"borrowing\", \"borrowing\", \"brands\", \"brands\", \"business\", \"business\", \"businesses\", \"businesses\", \"care\", \"care\", \"cases\", \"cases\", \"cent\", \"cent\", \"central\", \"central\", \"chancellor\", \"chancellor\", \"children\", \"children\", \"china\", \"china\", \"city\", \"city\", \"companies\", \"companies\", \"company\", \"company\", \"contact\", \"contact\", \"coronavirus\", \"coronavirus\", \"countries\", \"countries\", \"country\", \"country\", \"covid\", \"covid\", \"crisis\", \"crisis\", \"currency\", \"currency\", \"debt\", \"debt\", \"democrats\", \"democrats\", \"des\", \"des\", \"doses\", \"doses\", \"ecb\", \"economic\", \"economic\", \"economists\", \"economists\", \"economy\", \"economy\", \"equipment\", \"equipment\", \"est\", \"european\", \"european\", \"eurozone\", \"eurozone\", \"faire\", \"fashion\", \"fashion\", \"fed\", \"fed\", \"financial\", \"financial\", \"fiscal\", \"fiscal\", \"food\", \"food\", \"friend\", \"friend\", \"friends\", \"friends\", \"gdp\", \"gdp\", \"global\", \"global\", \"government\", \"government\", \"growth\", \"growth\", \"guests\", \"guests\", \"health\", \"health\", \"home\", \"home\", \"hubei\", \"hubei\", \"imf\", \"imf\", \"infected\", \"infected\", \"inflation\", \"inflation\", \"investors\", \"investors\", \"just\", \"just\", \"labs\", \"labs\", \"lagarde\", \"learning\", \"learning\", \"les\", \"leyen\", \"leyen\", \"life\", \"life\", \"like\", \"like\", \"listen\", \"listen\", \"loan\", \"loan\", \"loans\", \"loans\", \"lockdown\", \"lockdown\", \"london\", \"london\", \"lows\", \"lows\", \"machines\", \"machines\", \"market\", \"market\", \"markets\", \"markets\", \"masks\", \"masks\", \"mba\", \"medical\", \"medical\", \"mental\", \"mental\", \"mnuchin\", \"mnuchin\", \"moderna\", \"moderna\", \"monetary\", \"monetary\", \"month\", \"month\", \"mother\", \"mother\", \"need\", \"need\", \"new\", \"new\", \"nhs\", \"nhs\", \"oil\", \"oil\", \"online\", \"online\", \"pandemic\", \"pandemic\", \"parents\", \"parents\", \"pas\", \"pas\", \"pelosi\", \"pelosi\", \"people\", \"people\", \"pfizer\", \"pfizer\", \"podcast\", \"podcast\", \"pour\", \"president\", \"president\", \"privacy\", \"privacy\", \"public\", \"public\", \"quarter\", \"quarter\", \"qui\", \"rate\", \"rate\", \"rates\", \"rates\", \"recovery\", \"recovery\", \"remote\", \"remote\", \"rents\", \"rents\", \"republican\", \"republican\", \"republicans\", \"republicans\", \"reserve\", \"reserve\", \"rishi\", \"rishi\", \"said\", \"said\", \"samples\", \"says\", \"says\", \"scheme\", \"scheme\", \"school\", \"school\", \"schools\", \"schools\", \"social\", \"social\", \"son\", \"son\", \"staff\", \"staff\", \"stimulus\", \"stimulus\", \"stores\", \"stores\", \"students\", \"students\", \"sunak\", \"sunak\", \"support\", \"support\", \"teachers\", \"teachers\", \"teaching\", \"teaching\", \"test\", \"test\", \"testing\", \"testing\", \"tests\", \"tests\", \"time\", \"time\", \"treasuries\", \"treasury\", \"treasury\", \"trump\", \"trump\", \"une\", \"unemployment\", \"unemployment\", \"universities\", \"universities\", \"university\", \"university\", \"vaccine\", \"vaccine\", \"vaccines\", \"vaccines\", \"vietnam\", \"vietnam\", \"virus\", \"virus\", \"week\", \"week\", \"work\", \"work\", \"workers\", \"workers\", \"working\", \"working\", \"world\", \"world\", \"wuhan\", \"wuhan\", \"year\", \"year\", \"yield\", \"yield\", \"yields\", \"yields\"]}, \"R\": 30, \"lambda.step\": 0.01, \"plot.opts\": {\"xlab\": \"PC1\", \"ylab\": \"PC2\"}, \"topic.order\": [1, 2]};\n",
       "\n",
       "function LDAvis_load_lib(url, callback){\n",
       "  var s = document.createElement('script');\n",
       "  s.src = url;\n",
       "  s.async = true;\n",
       "  s.onreadystatechange = s.onload = callback;\n",
       "  s.onerror = function(){console.warn(\"failed to load library \" + url);};\n",
       "  document.getElementsByTagName(\"head\")[0].appendChild(s);\n",
       "}\n",
       "\n",
       "if(typeof(LDAvis) !== \"undefined\"){\n",
       "   // already loaded: just create the visualization\n",
       "   !function(LDAvis){\n",
       "       new LDAvis(\"#\" + \"ldavis_el522341402791068617607867243213\", ldavis_el522341402791068617607867243213_data);\n",
       "   }(LDAvis);\n",
       "}else if(typeof define === \"function\" && define.amd){\n",
       "   // require.js is available: use it to load d3/LDAvis\n",
       "   require.config({paths: {d3: \"https://d3js.org/d3.v5\"}});\n",
       "   require([\"d3\"], function(d3){\n",
       "      window.d3 = d3;\n",
       "      LDAvis_load_lib(\"https://cdn.jsdelivr.net/gh/bmabey/pyLDAvis@3.3.1/pyLDAvis/js/ldavis.v3.0.0.js\", function(){\n",
       "        new LDAvis(\"#\" + \"ldavis_el522341402791068617607867243213\", ldavis_el522341402791068617607867243213_data);\n",
       "      });\n",
       "    });\n",
       "}else{\n",
       "    // require.js not available: dynamically load d3 & LDAvis\n",
       "    LDAvis_load_lib(\"https://d3js.org/d3.v5.js\", function(){\n",
       "         LDAvis_load_lib(\"https://cdn.jsdelivr.net/gh/bmabey/pyLDAvis@3.3.1/pyLDAvis/js/ldavis.v3.0.0.js\", function(){\n",
       "                 new LDAvis(\"#\" + \"ldavis_el522341402791068617607867243213\", ldavis_el522341402791068617607867243213_data);\n",
       "            })\n",
       "         });\n",
       "}\n",
       "</script>"
      ],
      "text/plain": [
       "<IPython.core.display.HTML object>"
      ]
     },
     "execution_count": 53,
     "metadata": {},
     "output_type": "execute_result"
    }
   ],
   "source": [
    "pyLDAvis.display(panel)"
   ]
  },
  {
   "cell_type": "code",
   "execution_count": null,
   "metadata": {},
   "outputs": [],
   "source": []
  },
  {
   "cell_type": "code",
   "execution_count": null,
   "metadata": {},
   "outputs": [],
   "source": []
  },
  {
   "cell_type": "code",
   "execution_count": null,
   "metadata": {},
   "outputs": [],
   "source": []
  },
  {
   "cell_type": "code",
   "execution_count": null,
   "metadata": {},
   "outputs": [],
   "source": []
  },
  {
   "cell_type": "code",
   "execution_count": 33,
   "metadata": {},
   "outputs": [
    {
     "data": {
      "text/plain": [
       "-6783329.938308954"
      ]
     },
     "execution_count": 33,
     "metadata": {},
     "output_type": "execute_result"
    }
   ],
   "source": [
    "lda_model.score(dtm)"
   ]
  },
  {
   "cell_type": "code",
   "execution_count": 34,
   "metadata": {},
   "outputs": [
    {
     "data": {
      "text/plain": [
       "3831.692225399539"
      ]
     },
     "execution_count": 34,
     "metadata": {},
     "output_type": "execute_result"
    }
   ],
   "source": [
    "lda_model.perplexity(dtm)"
   ]
  },
  {
   "cell_type": "code",
   "execution_count": 38,
   "metadata": {},
   "outputs": [],
   "source": [
    "search_params = {'n_components': [2,5,10,15]}"
   ]
  },
  {
   "cell_type": "code",
   "execution_count": 39,
   "metadata": {},
   "outputs": [],
   "source": [
    "lda = LatentDirichletAllocation(random_state=42)"
   ]
  },
  {
   "cell_type": "code",
   "execution_count": 40,
   "metadata": {},
   "outputs": [],
   "source": [
    "from sklearn.model_selection import GridSearchCV"
   ]
  },
  {
   "cell_type": "code",
   "execution_count": 41,
   "metadata": {},
   "outputs": [],
   "source": [
    "model = GridSearchCV(lda, param_grid=search_params)"
   ]
  },
  {
   "cell_type": "code",
   "execution_count": 43,
   "metadata": {},
   "outputs": [
    {
     "name": "stderr",
     "output_type": "stream",
     "text": [
      "/Users/elitsa/opt/anaconda3/lib/python3.8/site-packages/sklearn/model_selection/_split.py:443: DeprecationWarning: `np.int` is a deprecated alias for the builtin `int`. To silence this warning, use `int` by itself. Doing this will not modify any behavior and is safe. When replacing `np.int`, you may wish to use e.g. `np.int64` or `np.int32` to specify the precision. If you wish to review your current use, check the release note link for additional information.\n",
      "Deprecated in NumPy 1.20; for more details and guidance: https://numpy.org/devdocs/release/1.20.0-notes.html#deprecations\n",
      "  fold_sizes = np.full(n_splits, n_samples // n_splits, dtype=np.int)\n",
      "/Users/elitsa/opt/anaconda3/lib/python3.8/site-packages/sklearn/model_selection/_split.py:93: DeprecationWarning: `np.bool` is a deprecated alias for the builtin `bool`. To silence this warning, use `bool` by itself. Doing this will not modify any behavior and is safe. If you specifically wanted the numpy scalar type, use `np.bool_` here.\n",
      "Deprecated in NumPy 1.20; for more details and guidance: https://numpy.org/devdocs/release/1.20.0-notes.html#deprecations\n",
      "  test_mask = np.zeros(_num_samples(X), dtype=np.bool)\n",
      "/Users/elitsa/opt/anaconda3/lib/python3.8/site-packages/sklearn/model_selection/_split.py:93: DeprecationWarning: `np.bool` is a deprecated alias for the builtin `bool`. To silence this warning, use `bool` by itself. Doing this will not modify any behavior and is safe. If you specifically wanted the numpy scalar type, use `np.bool_` here.\n",
      "Deprecated in NumPy 1.20; for more details and guidance: https://numpy.org/devdocs/release/1.20.0-notes.html#deprecations\n",
      "  test_mask = np.zeros(_num_samples(X), dtype=np.bool)\n",
      "/Users/elitsa/opt/anaconda3/lib/python3.8/site-packages/sklearn/model_selection/_split.py:93: DeprecationWarning: `np.bool` is a deprecated alias for the builtin `bool`. To silence this warning, use `bool` by itself. Doing this will not modify any behavior and is safe. If you specifically wanted the numpy scalar type, use `np.bool_` here.\n",
      "Deprecated in NumPy 1.20; for more details and guidance: https://numpy.org/devdocs/release/1.20.0-notes.html#deprecations\n",
      "  test_mask = np.zeros(_num_samples(X), dtype=np.bool)\n",
      "/Users/elitsa/opt/anaconda3/lib/python3.8/site-packages/sklearn/model_selection/_split.py:93: DeprecationWarning: `np.bool` is a deprecated alias for the builtin `bool`. To silence this warning, use `bool` by itself. Doing this will not modify any behavior and is safe. If you specifically wanted the numpy scalar type, use `np.bool_` here.\n",
      "Deprecated in NumPy 1.20; for more details and guidance: https://numpy.org/devdocs/release/1.20.0-notes.html#deprecations\n",
      "  test_mask = np.zeros(_num_samples(X), dtype=np.bool)\n",
      "/Users/elitsa/opt/anaconda3/lib/python3.8/site-packages/sklearn/model_selection/_split.py:93: DeprecationWarning: `np.bool` is a deprecated alias for the builtin `bool`. To silence this warning, use `bool` by itself. Doing this will not modify any behavior and is safe. If you specifically wanted the numpy scalar type, use `np.bool_` here.\n",
      "Deprecated in NumPy 1.20; for more details and guidance: https://numpy.org/devdocs/release/1.20.0-notes.html#deprecations\n",
      "  test_mask = np.zeros(_num_samples(X), dtype=np.bool)\n",
      "/Users/elitsa/opt/anaconda3/lib/python3.8/site-packages/sklearn/model_selection/_search.py:844: DeprecationWarning: `np.int` is a deprecated alias for the builtin `int`. To silence this warning, use `int` by itself. Doing this will not modify any behavior and is safe. When replacing `np.int`, you may wish to use e.g. `np.int64` or `np.int32` to specify the precision. If you wish to review your current use, check the release note link for additional information.\n",
      "Deprecated in NumPy 1.20; for more details and guidance: https://numpy.org/devdocs/release/1.20.0-notes.html#deprecations\n",
      "  dtype=np.int)\n"
     ]
    },
    {
     "name": "stdout",
     "output_type": "stream",
     "text": [
      "Best model's params:  {'n_components': 2}\n",
      "Best log likelihood score:  -1432751.617289872\n"
     ]
    },
    {
     "ename": "NameError",
     "evalue": "name 'feature_matrix' is not defined",
     "output_type": "error",
     "traceback": [
      "\u001b[0;31m---------------------------------------------------------------------------\u001b[0m",
      "\u001b[0;31mNameError\u001b[0m                                 Traceback (most recent call last)",
      "\u001b[0;32m<ipython-input-43-2b63dbff92e1>\u001b[0m in \u001b[0;36m<module>\u001b[0;34m\u001b[0m\n\u001b[1;32m      3\u001b[0m \u001b[0mprint\u001b[0m\u001b[0;34m(\u001b[0m\u001b[0;34m\"Best model's params: \"\u001b[0m\u001b[0;34m,\u001b[0m \u001b[0mmodel\u001b[0m\u001b[0;34m.\u001b[0m\u001b[0mbest_params_\u001b[0m\u001b[0;34m)\u001b[0m\u001b[0;34m\u001b[0m\u001b[0;34m\u001b[0m\u001b[0m\n\u001b[1;32m      4\u001b[0m \u001b[0mprint\u001b[0m\u001b[0;34m(\u001b[0m\u001b[0;34m\"Best log likelihood score: \"\u001b[0m\u001b[0;34m,\u001b[0m \u001b[0mmodel\u001b[0m\u001b[0;34m.\u001b[0m\u001b[0mbest_score_\u001b[0m\u001b[0;34m)\u001b[0m\u001b[0;34m\u001b[0m\u001b[0;34m\u001b[0m\u001b[0m\n\u001b[0;32m----> 5\u001b[0;31m \u001b[0mprint\u001b[0m\u001b[0;34m(\u001b[0m\u001b[0;34m\"Model perplexity: \"\u001b[0m\u001b[0;34m,\u001b[0m \u001b[0mbest_lda_model\u001b[0m\u001b[0;34m.\u001b[0m\u001b[0mperplexity\u001b[0m\u001b[0;34m(\u001b[0m\u001b[0mfeature_matrix\u001b[0m\u001b[0;34m)\u001b[0m\u001b[0;34m)\u001b[0m\u001b[0;34m\u001b[0m\u001b[0;34m\u001b[0m\u001b[0m\n\u001b[0m",
      "\u001b[0;31mNameError\u001b[0m: name 'feature_matrix' is not defined"
     ]
    }
   ],
   "source": [
    "model.fit(dtm)\n",
    "best_lda_model = model.best_estimator_\n",
    "print(\"Best model's params: \", model.best_params_)\n",
    "print(\"Best log likelihood score: \", model.best_score_)\n",
    "print(\"Model perplexity: \", best_lda_model.perplexity(dtm))"
   ]
  },
  {
   "cell_type": "code",
   "execution_count": null,
   "metadata": {},
   "outputs": [],
   "source": []
  }
 ],
 "metadata": {
  "kernelspec": {
   "display_name": "Python 3",
   "language": "python",
   "name": "python3"
  },
  "language_info": {
   "codemirror_mode": {
    "name": "ipython",
    "version": 3
   },
   "file_extension": ".py",
   "mimetype": "text/x-python",
   "name": "python",
   "nbconvert_exporter": "python",
   "pygments_lexer": "ipython3",
   "version": "3.7.10"
  }
 },
 "nbformat": 4,
 "nbformat_minor": 4
}
