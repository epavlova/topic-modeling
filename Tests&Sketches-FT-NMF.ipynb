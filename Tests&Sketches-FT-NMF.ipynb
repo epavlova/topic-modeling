{
 "cells": [
  {
   "cell_type": "code",
   "execution_count": 1,
   "metadata": {},
   "outputs": [],
   "source": [
    " import pandas as pd"
   ]
  },
  {
   "cell_type": "code",
   "execution_count": 2,
   "metadata": {},
   "outputs": [],
   "source": [
    "npr = pd.read_csv('outputWithDates.csv')"
   ]
  },
  {
   "cell_type": "code",
   "execution_count": 3,
   "metadata": {},
   "outputs": [
    {
     "data": {
      "text/html": [
       "<div>\n",
       "<style scoped>\n",
       "    .dataframe tbody tr th:only-of-type {\n",
       "        vertical-align: middle;\n",
       "    }\n",
       "\n",
       "    .dataframe tbody tr th {\n",
       "        vertical-align: top;\n",
       "    }\n",
       "\n",
       "    .dataframe thead th {\n",
       "        text-align: right;\n",
       "    }\n",
       "</style>\n",
       "<table border=\"1\" class=\"dataframe\">\n",
       "  <thead>\n",
       "    <tr style=\"text-align: right;\">\n",
       "      <th></th>\n",
       "      <th>uuid</th>\n",
       "      <th>date</th>\n",
       "      <th>text</th>\n",
       "    </tr>\n",
       "  </thead>\n",
       "  <tbody>\n",
       "    <tr>\n",
       "      <th>0</th>\n",
       "      <td>e826d5b5-d176-41b4-b100-3f2ccf2b55ff</td>\n",
       "      <td>2021-02-17 05:00:53</td>\n",
       "      <td>Private equity group CVC Capital Partners has ...</td>\n",
       "    </tr>\n",
       "    <tr>\n",
       "      <th>1</th>\n",
       "      <td>db70a308-aa88-439e-bae2-e0ca30ab84ec</td>\n",
       "      <td>2020-10-09 18:18:10</td>\n",
       "      <td>Your level-headed briefing on how the coronavi...</td>\n",
       "    </tr>\n",
       "    <tr>\n",
       "      <th>2</th>\n",
       "      <td>e593e7d4-b82a-4bf9-8497-426eee43bcbc</td>\n",
       "      <td>2020-04-07 12:00:29</td>\n",
       "      <td>Harry Truman, US president from 1945-53, reput...</td>\n",
       "    </tr>\n",
       "    <tr>\n",
       "      <th>3</th>\n",
       "      <td>051f71b9-82b5-45ed-8c28-3ce3b28a4e6c</td>\n",
       "      <td>2020-03-03 20:28:23</td>\n",
       "      <td>Matthew Vincent and guests discuss European ba...</td>\n",
       "    </tr>\n",
       "    <tr>\n",
       "      <th>4</th>\n",
       "      <td>01de7557-040a-4061-b33b-c065b556ea1f</td>\n",
       "      <td>2020-04-24 05:58:35</td>\n",
       "      <td>EU leaders ended their fourth e-summit of the ...</td>\n",
       "    </tr>\n",
       "  </tbody>\n",
       "</table>\n",
       "</div>"
      ],
      "text/plain": [
       "                                   uuid                 date  \\\n",
       "0  e826d5b5-d176-41b4-b100-3f2ccf2b55ff  2021-02-17 05:00:53   \n",
       "1  db70a308-aa88-439e-bae2-e0ca30ab84ec  2020-10-09 18:18:10   \n",
       "2  e593e7d4-b82a-4bf9-8497-426eee43bcbc  2020-04-07 12:00:29   \n",
       "3  051f71b9-82b5-45ed-8c28-3ce3b28a4e6c  2020-03-03 20:28:23   \n",
       "4  01de7557-040a-4061-b33b-c065b556ea1f  2020-04-24 05:58:35   \n",
       "\n",
       "                                                text  \n",
       "0  Private equity group CVC Capital Partners has ...  \n",
       "1  Your level-headed briefing on how the coronavi...  \n",
       "2  Harry Truman, US president from 1945-53, reput...  \n",
       "3  Matthew Vincent and guests discuss European ba...  \n",
       "4  EU leaders ended their fourth e-summit of the ...  "
      ]
     },
     "execution_count": 3,
     "metadata": {},
     "output_type": "execute_result"
    }
   ],
   "source": [
    "npr.head()"
   ]
  },
  {
   "cell_type": "code",
   "execution_count": 4,
   "metadata": {},
   "outputs": [
    {
     "data": {
      "text/plain": [
       "<bound method DataFrame.count of                                       uuid                 date  \\\n",
       "0     e826d5b5-d176-41b4-b100-3f2ccf2b55ff  2021-02-17 05:00:53   \n",
       "1     db70a308-aa88-439e-bae2-e0ca30ab84ec  2020-10-09 18:18:10   \n",
       "2     e593e7d4-b82a-4bf9-8497-426eee43bcbc  2020-04-07 12:00:29   \n",
       "3     051f71b9-82b5-45ed-8c28-3ce3b28a4e6c  2020-03-03 20:28:23   \n",
       "4     01de7557-040a-4061-b33b-c065b556ea1f  2020-04-24 05:58:35   \n",
       "...                                    ...                  ...   \n",
       "2152  09ac2783-8212-4a87-95d2-d37f17b774f5  2020-08-24 04:00:32   \n",
       "2153  9e853838-e81c-48e1-b2b2-1e245b1ff9c9  2020-04-20 18:00:48   \n",
       "2154  56cd63ad-bb82-4673-9b08-663b92a28362  2020-09-04 10:00:24   \n",
       "2155  86e2fdc5-0f8c-463b-8d90-8f9f8944b168  2020-04-09 17:36:09   \n",
       "2156  ee64dded-300e-4893-a3f0-78bacd648816  2020-10-04 23:02:09   \n",
       "\n",
       "                                                   text  \n",
       "0     Private equity group CVC Capital Partners has ...  \n",
       "1     Your level-headed briefing on how the coronavi...  \n",
       "2     Harry Truman, US president from 1945-53, reput...  \n",
       "3     Matthew Vincent and guests discuss European ba...  \n",
       "4     EU leaders ended their fourth e-summit of the ...  \n",
       "...                                                 ...  \n",
       "2152  Danish companies have been among the few to re...  \n",
       "2153  The 1.3m European citizens waiting for the per...  \n",
       "2154  “Keep ’em clean” reads a playful poster by gra...  \n",
       "2155  Maybe Jay Powell should be asking for two and ...  \n",
       "2156  The UK’s welfare system is prepared for a mill...  \n",
       "\n",
       "[2157 rows x 3 columns]>"
      ]
     },
     "execution_count": 4,
     "metadata": {},
     "output_type": "execute_result"
    }
   ],
   "source": [
    "npr.count"
   ]
  },
  {
   "cell_type": "code",
   "execution_count": 5,
   "metadata": {},
   "outputs": [],
   "source": [
    "from sklearn.feature_extraction.text import TfidfVectorizer"
   ]
  },
  {
   "cell_type": "code",
   "execution_count": 6,
   "metadata": {},
   "outputs": [],
   "source": [
    "tfidf = TfidfVectorizer(max_df=0.95, min_df=2, stop_words='english')"
   ]
  },
  {
   "cell_type": "code",
   "execution_count": 7,
   "metadata": {},
   "outputs": [],
   "source": [
    "dtm = tfidf.fit_transform(npr['text'])"
   ]
  },
  {
   "cell_type": "code",
   "execution_count": 8,
   "metadata": {},
   "outputs": [
    {
     "data": {
      "text/plain": [
       "<2157x22000 sparse matrix of type '<class 'numpy.float64'>'\n",
       "\twith 600704 stored elements in Compressed Sparse Row format>"
      ]
     },
     "execution_count": 8,
     "metadata": {},
     "output_type": "execute_result"
    }
   ],
   "source": [
    "dtm"
   ]
  },
  {
   "cell_type": "code",
   "execution_count": 9,
   "metadata": {},
   "outputs": [],
   "source": [
    "from sklearn.decomposition import NMF"
   ]
  },
  {
   "cell_type": "code",
   "execution_count": 10,
   "metadata": {},
   "outputs": [],
   "source": [
    "nmf_model = NMF(n_components=15, random_state=42)"
   ]
  },
  {
   "cell_type": "code",
   "execution_count": 11,
   "metadata": {},
   "outputs": [
    {
     "data": {
      "text/plain": [
       "NMF(n_components=15, random_state=42)"
      ]
     },
     "execution_count": 11,
     "metadata": {},
     "output_type": "execute_result"
    }
   ],
   "source": [
    "nmf_model.fit(dtm)"
   ]
  },
  {
   "cell_type": "code",
   "execution_count": 12,
   "metadata": {},
   "outputs": [
    {
     "data": {
      "text/plain": [
       "'automobile'"
      ]
     },
     "execution_count": 12,
     "metadata": {},
     "output_type": "execute_result"
    }
   ],
   "source": [
    "tfidf.get_feature_names()[2300]"
   ]
  },
  {
   "cell_type": "code",
   "execution_count": 13,
   "metadata": {},
   "outputs": [
    {
     "name": "stdout",
     "output_type": "stream",
     "text": [
      "the top 15 words for topic # 0\n",
      "['virus', 'uk', 'measures', 'tory', 'england', 'mps', 'prime', 'people', 'lockdown', 'restrictions', 'minister', 'government', 'said', 'mr', 'johnson']\n",
      "\n",
      "\n",
      "the top 15 words for topic # 1\n",
      "['rates', 'yield', 'asset', 'financial', 'bonds', 'market', 'ecb', 'bond', 'banks', 'central', 'markets', 'investors', 'bank', 'debt', 'fed']\n",
      "\n",
      "\n",
      "the top 15 words for topic # 2\n",
      "['efficacy', 'covid', 'trials', 'vaccination', 'trial', 'jab', 'oxford', 'moderna', 'said', 'biontech', 'pfizer', 'astrazeneca', 'doses', 'vaccines', 'vaccine']\n",
      "\n",
      "\n",
      "the top 15 words for topic # 3\n",
      "['americans', 'stimulus', 'republicans', 'senate', 'republican', 'said', 'election', 'democratic', 'democrats', 'white', 'house', 'president', 'biden', 'mr', 'trump']\n",
      "\n",
      "\n",
      "the top 15 words for topic # 4\n",
      "['tax', 'small', 'uk', 'chancellor', 'said', 'support', 'banks', 'business', 'loan', 'sunak', 'government', 'companies', 'loans', 'businesses', 'scheme']\n",
      "\n",
      "\n",
      "the top 15 words for topic # 5\n",
      "['executive', 'companies', 'retailers', 'shares', 'business', 'retail', 'online', 'quarter', 'group', 'stores', 'year', 'said', 'cent', 'company', 'sales']\n",
      "\n",
      "\n",
      "the top 15 words for topic # 6\n",
      "['rate', 'gdp', 'spending', 'growth', 'economists', 'unemployment', 'recovery', 'economist', 'quarter', 'year', 'economic', 'data', 'inflation', 'economy', 'cent']\n",
      "\n",
      "\n",
      "the top 15 words for topic # 7\n",
      "['german', 'germany', 'europe', 'italy', 'von', 'der', 'leyen', 'states', 'brussels', 'member', 'bloc', 'countries', 'european', 'commission', 'eu']\n",
      "\n",
      "\n",
      "the top 15 words for topic # 8\n",
      "['covid', 'new', 'business', 'just', 'life', 'ft', 'world', 'pandemic', 'like', 'working', 'time', 'home', 'work', 'people', 'says']\n",
      "\n",
      "\n",
      "the top 15 words for topic # 9\n",
      "['said', 'online', 'exams', 'university', 'teaching', 'learning', 'parents', 'universities', 'pupils', 'teachers', 'education', 'children', 'students', 'school', 'schools']\n",
      "\n",
      "\n",
      "the top 15 words for topic # 10\n",
      "['foreign', 'mainland', 'global', 'said', 'world', 'city', 'coronavirus', 'virus', 'outbreak', 'wuhan', 'kong', 'hong', 'beijing', 'chinese', 'china']\n",
      "\n",
      "\n",
      "the top 15 words for topic # 11\n",
      "['cent', 'market', 'global', 'demand', 'price', 'production', 'russia', 'barrel', 'energy', 'crude', 'arabia', 'opec', 'saudi', 'prices', 'oil']\n",
      "\n",
      "\n",
      "the top 15 words for topic # 12\n",
      "['people', 'covid', '000', 'hospital', 'hospitals', 'cases', 'test', 'said', 'deaths', 'health', 'patients', 'nhs', 'care', 'testing', 'tests']\n",
      "\n",
      "\n",
      "the top 15 words for topic # 13\n",
      "['editor', 'visit', 'coronavirus', 'https', 'newsletter', 'explains', 'plus', 'information', 'opt', 'acast', 'content', 'www', 'privacy', 'com', 'ft']\n",
      "\n",
      "\n",
      "the top 15 words for topic # 14\n",
      "['easyjet', 'carriers', 'said', 'passenger', 'passengers', 'aviation', 'airport', 'aircraft', 'flights', 'quarantine', 'industry', 'air', 'airline', 'travel', 'airlines']\n",
      "\n",
      "\n"
     ]
    }
   ],
   "source": [
    "for index, topic in enumerate(nmf_model.components_):\n",
    "    print(f\"the top 15 words for topic # {index}\")\n",
    "    print([tfidf.get_feature_names()[i] for i in topic.argsort()[-15:]])\n",
    "    print('\\n')"
   ]
  },
  {
   "cell_type": "code",
   "execution_count": 14,
   "metadata": {},
   "outputs": [],
   "source": [
    "topic_results = nmf_model.transform(dtm)"
   ]
  },
  {
   "cell_type": "code",
   "execution_count": 15,
   "metadata": {},
   "outputs": [],
   "source": [
    "npr['Topic'] = topic_results.argmax(axis=1)"
   ]
  },
  {
   "cell_type": "code",
   "execution_count": 16,
   "metadata": {},
   "outputs": [
    {
     "data": {
      "text/html": [
       "<div>\n",
       "<style scoped>\n",
       "    .dataframe tbody tr th:only-of-type {\n",
       "        vertical-align: middle;\n",
       "    }\n",
       "\n",
       "    .dataframe tbody tr th {\n",
       "        vertical-align: top;\n",
       "    }\n",
       "\n",
       "    .dataframe thead th {\n",
       "        text-align: right;\n",
       "    }\n",
       "</style>\n",
       "<table border=\"1\" class=\"dataframe\">\n",
       "  <thead>\n",
       "    <tr style=\"text-align: right;\">\n",
       "      <th></th>\n",
       "      <th>uuid</th>\n",
       "      <th>date</th>\n",
       "      <th>text</th>\n",
       "      <th>Topic</th>\n",
       "    </tr>\n",
       "  </thead>\n",
       "  <tbody>\n",
       "    <tr>\n",
       "      <th>0</th>\n",
       "      <td>e826d5b5-d176-41b4-b100-3f2ccf2b55ff</td>\n",
       "      <td>2021-02-17 05:00:53</td>\n",
       "      <td>Private equity group CVC Capital Partners has ...</td>\n",
       "      <td>12</td>\n",
       "    </tr>\n",
       "    <tr>\n",
       "      <th>1</th>\n",
       "      <td>db70a308-aa88-439e-bae2-e0ca30ab84ec</td>\n",
       "      <td>2020-10-09 18:18:10</td>\n",
       "      <td>Your level-headed briefing on how the coronavi...</td>\n",
       "      <td>13</td>\n",
       "    </tr>\n",
       "    <tr>\n",
       "      <th>2</th>\n",
       "      <td>e593e7d4-b82a-4bf9-8497-426eee43bcbc</td>\n",
       "      <td>2020-04-07 12:00:29</td>\n",
       "      <td>Harry Truman, US president from 1945-53, reput...</td>\n",
       "      <td>6</td>\n",
       "    </tr>\n",
       "    <tr>\n",
       "      <th>3</th>\n",
       "      <td>051f71b9-82b5-45ed-8c28-3ce3b28a4e6c</td>\n",
       "      <td>2020-03-03 20:28:23</td>\n",
       "      <td>Matthew Vincent and guests discuss European ba...</td>\n",
       "      <td>13</td>\n",
       "    </tr>\n",
       "    <tr>\n",
       "      <th>4</th>\n",
       "      <td>01de7557-040a-4061-b33b-c065b556ea1f</td>\n",
       "      <td>2020-04-24 05:58:35</td>\n",
       "      <td>EU leaders ended their fourth e-summit of the ...</td>\n",
       "      <td>7</td>\n",
       "    </tr>\n",
       "  </tbody>\n",
       "</table>\n",
       "</div>"
      ],
      "text/plain": [
       "                                   uuid                 date  \\\n",
       "0  e826d5b5-d176-41b4-b100-3f2ccf2b55ff  2021-02-17 05:00:53   \n",
       "1  db70a308-aa88-439e-bae2-e0ca30ab84ec  2020-10-09 18:18:10   \n",
       "2  e593e7d4-b82a-4bf9-8497-426eee43bcbc  2020-04-07 12:00:29   \n",
       "3  051f71b9-82b5-45ed-8c28-3ce3b28a4e6c  2020-03-03 20:28:23   \n",
       "4  01de7557-040a-4061-b33b-c065b556ea1f  2020-04-24 05:58:35   \n",
       "\n",
       "                                                text  Topic  \n",
       "0  Private equity group CVC Capital Partners has ...     12  \n",
       "1  Your level-headed briefing on how the coronavi...     13  \n",
       "2  Harry Truman, US president from 1945-53, reput...      6  \n",
       "3  Matthew Vincent and guests discuss European ba...     13  \n",
       "4  EU leaders ended their fourth e-summit of the ...      7  "
      ]
     },
     "execution_count": 16,
     "metadata": {},
     "output_type": "execute_result"
    }
   ],
   "source": [
    "npr.head()"
   ]
  },
  {
   "cell_type": "code",
   "execution_count": 53,
   "metadata": {},
   "outputs": [],
   "source": [
    "npr.to_csv(\"nmf_result_15topics.csv\")"
   ]
  },
  {
   "cell_type": "code",
   "execution_count": null,
   "metadata": {},
   "outputs": [],
   "source": []
  }
 ],
 "metadata": {
  "kernelspec": {
   "display_name": "Python 3",
   "language": "python",
   "name": "python3"
  },
  "language_info": {
   "codemirror_mode": {
    "name": "ipython",
    "version": 3
   },
   "file_extension": ".py",
   "mimetype": "text/x-python",
   "name": "python",
   "nbconvert_exporter": "python",
   "pygments_lexer": "ipython3",
   "version": "3.8.3"
  }
 },
 "nbformat": 4,
 "nbformat_minor": 4
}
